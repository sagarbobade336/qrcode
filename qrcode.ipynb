{
  "nbformat": 4,
  "nbformat_minor": 0,
  "metadata": {
    "colab": {
      "provenance": []
    },
    "kernelspec": {
      "name": "python3",
      "display_name": "Python 3"
    },
    "language_info": {
      "name": "python"
    }
  },
  "cells": [
    {
      "cell_type": "code",
      "execution_count": 1,
      "metadata": {
        "colab": {
          "base_uri": "https://localhost:8080/"
        },
        "id": "wg36N7n2XRjP",
        "outputId": "8b11bc0d-19df-4c46-e718-6472227ecd58"
      },
      "outputs": [
        {
          "output_type": "stream",
          "name": "stdout",
          "text": [
            "Collecting qrcode\n",
            "  Downloading qrcode-8.2-py3-none-any.whl.metadata (17 kB)\n",
            "Downloading qrcode-8.2-py3-none-any.whl (45 kB)\n",
            "\u001b[?25l   \u001b[90m━━━━━━━━━━━━━━━━━━━━━━━━━━━━━━━━━━━━━━━━\u001b[0m \u001b[32m0.0/46.0 kB\u001b[0m \u001b[31m?\u001b[0m eta \u001b[36m-:--:--\u001b[0m\r\u001b[2K   \u001b[90m━━━━━━━━━━━━━━━━━━━━━━━━━━━━━━━━━━━━━━━━\u001b[0m \u001b[32m46.0/46.0 kB\u001b[0m \u001b[31m1.7 MB/s\u001b[0m eta \u001b[36m0:00:00\u001b[0m\n",
            "\u001b[?25hInstalling collected packages: qrcode\n",
            "Successfully installed qrcode-8.2\n"
          ]
        }
      ],
      "source": [
        "pip install qrcode"
      ]
    },
    {
      "cell_type": "code",
      "source": [
        "pip install pillow"
      ],
      "metadata": {
        "colab": {
          "base_uri": "https://localhost:8080/"
        },
        "id": "Isqjn9yVXVv5",
        "outputId": "3e74df49-ebb5-4694-d5e3-dfe88a879c60"
      },
      "execution_count": 2,
      "outputs": [
        {
          "output_type": "stream",
          "name": "stdout",
          "text": [
            "Requirement already satisfied: pillow in /usr/local/lib/python3.11/dist-packages (11.2.1)\n"
          ]
        }
      ]
    },
    {
      "cell_type": "code",
      "source": [
        "import qrcode\n",
        "\n",
        "# Get input from user\n",
        "upi_id = input(\"Enter UPI ID (e.g., yourname@bank): \")\n",
        "name = input(\"Enter payee name: \")\n",
        "amount = input(\"Enter amount to pay: \")\n",
        "\n",
        "# Create UPI payment link\n",
        "upi_link = f\"upi://pay?pa={upi_id}&pn={name}&am={amount}&cu=INR\"\n",
        "\n",
        "# Generate QR code\n",
        "qr = qrcode.make(upi_link)\n",
        "\n",
        "# Save it as an image\n",
        "qr.save(\"payment_qr.png\")\n",
        "\n",
        "#display qrcode\n",
        "from IPython.display import Image\n",
        "Image(filename='payment_qr.png')\n",
        "\n",
        "print(\"✅ QR Code generated and saved as 'payment_qr.png'\")\n",
        "display(Image(filename='payment_qr.png'))\n"
      ],
      "metadata": {
        "colab": {
          "base_uri": "https://localhost:8080/",
          "height": 496
        },
        "id": "YJabzCeLXeHH",
        "outputId": "d866d2d5-dac0-47b9-d977-30618c7f64ad"
      },
      "execution_count": 3,
      "outputs": [
        {
          "output_type": "stream",
          "name": "stdout",
          "text": [
            "Enter UPI ID (e.g., yourname@bank): 8275355816@ybl\n",
            "Enter payee name: sagar bobade\n",
            "Enter amount to pay: 500\n",
            "✅ QR Code generated and saved as 'payment_qr.png'\n"
          ]
        },
        {
          "output_type": "display_data",
          "data": {
            "image/png": "[encoded data removed]",
            "text/plain": [
              "<IPython.core.display.Image object>"
            ]
          },
          "metadata": {}
        }
      ]
    },
    {
      "cell_type": "code",
      "source": [],
      "metadata": {
        "id": "pdn6V44AXiyN"
      },
      "execution_count": null,
      "outputs": []
    }
  ]
}